{
 "cells": [
  {
   "cell_type": "code",
   "execution_count": 1,
   "metadata": {},
   "outputs": [],
   "source": [
    "data = (\n",
    "    {\n",
    "        \"data_source\": \"data_source\",\n",
    "        \"prompt\": [{\"role\": \"user\", \"content\": \"prompt\"}],\n",
    "        \"ability\": \"IQ\",\n",
    "        \"reward_model\": {\"style\": \"rule\", \"ground_truth\": \"answer_raw\"},\n",
    "        \"extra_info\": {\n",
    "            'split': \"split\",\n",
    "            'index': \"idx\",\n",
    "            'question': \"instruction_raw\",\n",
    "            'answer': \"answer_raw\",\n",
    "        },\n",
    "    },\n",
    ")"
   ]
  },
  {
   "cell_type": "code",
   "execution_count": null,
   "metadata": {},
   "outputs": [],
   "source": []
  },
  {
   "cell_type": "code",
   "execution_count": 2,
   "metadata": {},
   "outputs": [
    {
     "name": "stdout",
     "output_type": "stream",
     "text": [
      "({'data_source': 'data_source', 'prompt': [{'role': 'user', 'content': 'prompt'}], 'ability': 'IQ', 'reward_model': {'style': 'rule', 'ground_truth': 'answer_raw'}, 'extra_info': {'split': 'split', 'index': 'idx', 'question': 'instruction_raw', 'answer': 'answer_raw'}},)\n"
     ]
    }
   ],
   "source": [
    "print(data)"
   ]
  }
 ],
 "metadata": {
  "kernelspec": {
   "display_name": "trl",
   "language": "python",
   "name": "python3"
  },
  "language_info": {
   "codemirror_mode": {
    "name": "ipython",
    "version": 3
   },
   "file_extension": ".py",
   "mimetype": "text/x-python",
   "name": "python",
   "nbconvert_exporter": "python",
   "pygments_lexer": "ipython3",
   "version": "3.10.0"
  }
 },
 "nbformat": 4,
 "nbformat_minor": 2
}
